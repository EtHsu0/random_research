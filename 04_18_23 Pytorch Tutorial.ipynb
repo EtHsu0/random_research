{
 "cells": [
  {
   "cell_type": "code",
   "execution_count": 52,
   "id": "44704ac2",
   "metadata": {},
   "outputs": [],
   "source": [
    "import os\n",
    "import torch\n",
    "from torch import nn\n",
    "from torch.utils.data import DataLoader\n",
    "from torchvision import datasets, transforms\n",
    "import numpy as np"
   ]
  },
  {
   "cell_type": "code",
   "execution_count": 53,
   "id": "d17ec69b",
   "metadata": {},
   "outputs": [
    {
     "name": "stdout",
     "output_type": "stream",
     "text": [
      "Using cpu device\n"
     ]
    }
   ],
   "source": [
    "device = (\n",
    "    \"cuda\"\n",
    "    if torch.cuda.is_available()\n",
    "    else \"mps\"\n",
    "    if torch.backends.mps.is_available()\n",
    "    else \"cpu\"\n",
    ")\n",
    "print(f\"Using {device} device\")"
   ]
  },
  {
   "cell_type": "code",
   "execution_count": 54,
   "id": "36350692",
   "metadata": {},
   "outputs": [],
   "source": [
    "beta_gen = lambda d : np.array([1]*(d//2 + 1) + [0]*(d//2 - 1)) # 1. what does this do?\n",
    "sigmoid = lambda x :  1/(1 + np.exp(-x))"
   ]
  },
  {
   "cell_type": "code",
   "execution_count": 55,
   "id": "9c183aa6",
   "metadata": {},
   "outputs": [],
   "source": [
    "def generate_spurious_data_anticausal(n, d, seed, rho=0): \n",
    "    # anticausal is a type of data generating process where p(y,z) changes \n",
    "    # across train and test while p( X | Y, Z) stays the same\n",
    "    rng = np.random.RandomState(seed) \n",
    "    xs = rng.uniform(0.0, 1.0, size=(n * d)).reshape(n, d)\n",
    "    noise = rng.normal(0.0, 0.5, size=n)\n",
    "    beta = beta_gen(d)/np.sqrt(d)\n",
    "  \n",
    "    p_y_1_g_x = sigmoid(xs @ beta + rho) # p( y = 1 | X ) = sigma(beta^T x)\n",
    "\n",
    "    ys = np.random.random(size=(n,)) < p_y_1_g_x # why does this sample from the bernoulli distirbution p( y = 1 | X )?\n",
    "\n",
    "    p_z_1_g_x = sigmoid(rho*(2*ys - 1)) # p( z = 1 | X ) = sigma(beta_z^T x)\n",
    "    \n",
    "    zs = np.random.random(size=(n,)) < p_z_1_g_x # why does this work?\n",
    "\n",
    "    xs[:, -1] = zs # This make model perfect as X and Y is perfect related\n",
    "\n",
    "    # Z \\not\\perp Y \\g X # this is wrong X--> Y --> Z, \n",
    "    \n",
    "    # p(Y=y, Z=z| X) = 0 if  z\\not= X[:, -1], do we agree? p(Y = y, Z=z, X=x) = 0 if z \\not= x[:,-1], p(Y = y, Z=z, X=x) / p(X = x) = p(Y=y, Z=z| X)  = 0\n",
    "    # p(Y=y| X) p(Z =z| X), p(Z =z| X)=0 when z\\not= X[:, -1]\n",
    "    # p(Y=y, Z=z| X) =  p(Y=y| X) p(Z =z| X) \\implies Y \\indep Z \\g X\n",
    "\n",
    "    # Y \\not\\indep Z \\g X[:,0:d-1]\n",
    "\n",
    "    return xs, ys, zs"
   ]
  },
  {
   "cell_type": "code",
   "execution_count": 68,
   "id": "1dbcb44c",
   "metadata": {},
   "outputs": [],
   "source": [
    "n = 1000\n",
    "d = 100\n",
    "seed = 1\n",
    "X,Y,Z = generate_spurious_data_anticausal(n, d, seed, rho=1)\n",
    "X_test,Y_test,Z_test = generate_spurious_data_anticausal(n, d, seed, rho=1)"
   ]
  },
  {
   "cell_type": "code",
   "execution_count": 69,
   "id": "ef44b465",
   "metadata": {},
   "outputs": [
    {
     "name": "stdout",
     "output_type": "stream",
     "text": [
      "(1000, 100)\n",
      "(1000,)\n"
     ]
    }
   ],
   "source": [
    "X = np.array(X)\n",
    "Y = np.array(Y)\n",
    "#X = np.reshape(X, (1000, 10))\n",
    "print(X.shape)\n",
    "print(Y.shape)\n",
    "Y = np.ravel(Y)\n",
    "\n",
    "X = torch.from_numpy(X)\n",
    "Y = torch.from_numpy(Y)"
   ]
  },
  {
   "cell_type": "code",
   "execution_count": 70,
   "id": "c8706015",
   "metadata": {},
   "outputs": [],
   "source": [
    "class NeuralNetwork(nn.Module):\n",
    "    def __init__(self, input_dim, output_dim):\n",
    "        super().__init__()\n",
    "        self.flatten = nn.Flatten()\n",
    "        self.linear_relu_stack = nn.Sequential(\n",
    "            nn.Linear(input_dim, 10*input_dim),\n",
    "            nn.ReLU(),\n",
    "            nn.Linear(10*input_dim, 10*input_dim),\n",
    "            nn.ReLU(),\n",
    "            nn.Linear(10*input_dim, output_dim),\n",
    "        )\n",
    "\n",
    "    def forward(self, x):\n",
    "        x = self.flatten(x)\n",
    "        logits = self.linear_relu_stack(x)\n",
    "        return torch.sigmoid(logits)"
   ]
  },
  {
   "cell_type": "code",
   "execution_count": 71,
   "id": "1ab6565e",
   "metadata": {},
   "outputs": [],
   "source": [
    "class LogisticRegression(torch.nn.Module):\n",
    "    def __init__(self, input_dim, output_dim):\n",
    "        super(LogisticRegression, self).__init__()\n",
    "        self.linear = torch.nn.Linear(input_dim, output_dim)\n",
    "    \n",
    "    def forward(self, x):\n",
    "        outputs = torch.sigmoid(self.linear(x))\n",
    "        return outputs"
   ]
  },
  {
   "cell_type": "code",
   "execution_count": 72,
   "id": "1c767a52",
   "metadata": {},
   "outputs": [],
   "source": [
    "epochs = 1000\n",
    "input_dim = 100 # Two inputs x1 and x2 \n",
    "output_dim = 1 # Single binary output \n",
    "learning_rate = 0.01"
   ]
  },
  {
   "cell_type": "code",
   "execution_count": 73,
   "id": "4a9b3adc",
   "metadata": {},
   "outputs": [],
   "source": [
    "model = NeuralNetwork(input_dim,output_dim)\n",
    "\n",
    "criterion = torch.nn.BCELoss()\n",
    "\n",
    "optimizer = torch.optim.SGD(model.parameters(), lr=learning_rate)"
   ]
  },
  {
   "cell_type": "code",
   "execution_count": 74,
   "id": "06185fa4",
   "metadata": {},
   "outputs": [
    {
     "name": "stdout",
     "output_type": "stream",
     "text": [
      "torch.Size([1000, 100])\n"
     ]
    }
   ],
   "source": [
    "X = np.array(X)\n",
    "Y = np.array(Y)\n",
    "#X = np.reshape(X, (1000, 10))\n",
    "Y = np.ravel(Y)\n",
    "\n",
    "X = torch.from_numpy(X).to(torch.float32)\n",
    "Y = torch.from_numpy(Y).to(torch.float32)\n",
    "\n",
    "print(X.shape)"
   ]
  },
  {
   "cell_type": "code",
   "execution_count": 75,
   "id": "bd1c894e",
   "metadata": {},
   "outputs": [],
   "source": [
    "X_test = np.array(X_test)\n",
    "Y_test = np.array(Y_test)\n",
    "#X_test = np.reshape(X_test, (1000, 10))\n",
    "Y_test = np.ravel(Y_test)\n",
    "\n",
    "X_test = torch.from_numpy(X_test).to(torch.float32)\n",
    "Y_test = torch.from_numpy(Y_test).to(torch.float32)"
   ]
  },
  {
   "cell_type": "code",
   "execution_count": 76,
   "id": "e084ff53",
   "metadata": {},
   "outputs": [
    {
     "name": "stdout",
     "output_type": "stream",
     "text": [
      "Iteration: 100. \n",
      "Test - Loss: 0.14428839087486267. Accuracy: 96.8\n",
      "Train -  Loss: 0.14295288920402527. Accuracy: 96.8\n",
      "\n",
      "Iteration: 200. \n",
      "Test - Loss: 0.14157027006149292. Accuracy: 96.8\n",
      "Train -  Loss: 0.13972271978855133. Accuracy: 96.8\n",
      "\n",
      "Iteration: 300. \n",
      "Test - Loss: 0.14139598608016968. Accuracy: 96.8\n",
      "Train -  Loss: 0.13925598561763763. Accuracy: 96.8\n",
      "\n",
      "Iteration: 400. \n",
      "Test - Loss: 0.14126087725162506. Accuracy: 96.8\n",
      "Train -  Loss: 0.13884562253952026. Accuracy: 96.8\n",
      "\n",
      "Iteration: 500. \n",
      "Test - Loss: 0.14112627506256104. Accuracy: 96.8\n",
      "Train -  Loss: 0.13843564689159393. Accuracy: 96.8\n",
      "\n",
      "Iteration: 600. \n",
      "Test - Loss: 0.140993133187294. Accuracy: 96.8\n",
      "Train -  Loss: 0.1380249559879303. Accuracy: 96.8\n",
      "\n",
      "Iteration: 700. \n",
      "Test - Loss: 0.14086034893989563. Accuracy: 96.8\n",
      "Train -  Loss: 0.1376125067472458. Accuracy: 96.8\n",
      "\n",
      "Iteration: 800. \n",
      "Test - Loss: 0.14072735607624054. Accuracy: 96.8\n",
      "Train -  Loss: 0.13719883561134338. Accuracy: 96.8\n",
      "\n",
      "Iteration: 900. \n",
      "Test - Loss: 0.1405949741601944. Accuracy: 96.8\n",
      "Train -  Loss: 0.13678506016731262. Accuracy: 96.8\n",
      "\n",
      "Iteration: 1000. \n",
      "Test - Loss: 0.1404634714126587. Accuracy: 96.8\n",
      "Train -  Loss: 0.136367067694664. Accuracy: 96.8\n",
      "\n"
     ]
    }
   ],
   "source": [
    "losses = []\n",
    "losses_test = []\n",
    "Iterations = []\n",
    "iter = 0\n",
    "\n",
    "for epoch in range(int(epochs)):\n",
    "    x = X\n",
    "    labels = Y\n",
    "    optimizer.zero_grad() # Setting our stored gradients equal to zero\n",
    "    outputs = model(X)\n",
    "    loss = criterion(torch.squeeze(outputs), labels) \n",
    "    \n",
    "    loss.backward() # Computes the gradient of the given tensor w.r.t. the weights/bias\n",
    "    \n",
    "    optimizer.step() # Updates weights and biases with the optimizer (SGD)\n",
    "    \n",
    "    iter+=1\n",
    "    if iter%100==0:\n",
    "        with torch.no_grad():\n",
    "            # Calculating the loss and accuracy for the test dataset\n",
    "            correct_test = 0\n",
    "            total_test = 0\n",
    "            outputs_test = torch.squeeze(model(X_test))\n",
    "            loss_test = criterion(outputs_test, Y_test)\n",
    "            \n",
    "            predicted_test = outputs_test.round().detach().numpy()\n",
    "            total_test += Y_test.size(0)\n",
    "            correct_test += np.sum(predicted_test == Y_test.detach().numpy())\n",
    "            accuracy_test = 100 * correct_test/total_test\n",
    "            losses_test.append(loss_test.item())\n",
    "            \n",
    "            # Calculating the loss and accuracy for the train dataset\n",
    "            total = 0\n",
    "            correct = 0\n",
    "            total += Y.size(0)\n",
    "            correct += np.sum(torch.squeeze(outputs).round().detach().numpy() == Y.detach().numpy())\n",
    "            accuracy = 100 * correct/total\n",
    "            losses.append(loss.item())\n",
    "            Iterations.append(iter)\n",
    "            \n",
    "            print(f\"Iteration: {iter}. \\nTest - Loss: {loss_test.item()}. Accuracy: {accuracy_test}\")\n",
    "            print(f\"Train -  Loss: {loss.item()}. Accuracy: {accuracy}\\n\")"
   ]
  },
  {
   "cell_type": "code",
   "execution_count": 77,
   "id": "773ce2f4",
   "metadata": {},
   "outputs": [
    {
     "name": "stdout",
     "output_type": "stream",
     "text": [
      "10\n",
      "[0.14428839087486267, 0.14157027006149292, 0.14139598608016968, 0.14126087725162506, 0.14112627506256104, 0.140993133187294, 0.14086034893989563, 0.14072735607624054, 0.1405949741601944, 0.1404634714126587]\n"
     ]
    },
    {
     "data": {
      "image/png": "[encoded data removed]",
      "text/plain": [
       "<Figure size 640x480 with 1 Axes>"
      ]
     },
     "metadata": {},
     "output_type": "display_data"
    }
   ],
   "source": [
    "print(len(losses))\n",
    "print(losses_test)\n",
    "import matplotlib.pyplot as plt\n",
    "\n",
    "\n",
    "epoches = [x for x in range(0,epochs,100)]\n",
    "plt.plot(epoches, losses, label=\"train\")\n",
    "plt.plot(epoches, losses_test, label=\"test\")\n",
    "plt.legend()\n",
    "plt.show()"
   ]
  },
  {
   "cell_type": "code",
   "execution_count": 66,
   "id": "098131b1",
   "metadata": {},
   "outputs": [
    {
     "name": "stdout",
     "output_type": "stream",
     "text": [
      "NeuralNetwork(\n",
      "  (flatten): Flatten(start_dim=1, end_dim=-1)\n",
      "  (linear_relu_stack): Sequential(\n",
      "    (0): Linear(in_features=100, out_features=1000, bias=True)\n",
      "    (1): ReLU()\n",
      "    (2): Linear(in_features=1000, out_features=1000, bias=True)\n",
      "    (3): ReLU()\n",
      "    (4): Linear(in_features=1000, out_features=1, bias=True)\n",
      "  )\n",
      ")\n"
     ]
    }
   ],
   "source": [
    "print(model)"
   ]
  },
  {
   "cell_type": "code",
   "execution_count": null,
   "id": "6f797d01",
   "metadata": {},
   "outputs": [],
   "source": []
  },
  {
   "cell_type": "markdown",
   "id": "8ba3db90",
   "metadata": {},
   "source": [
    "1. Tensors\n",
    "2. Datasets and DataLoaders\n",
    "3. Transforms\n",
    "4. Build Model\n",
    "5. Automatic Differentiation\n",
    "6. Optimization Loop"
   ]
  },
  {
   "cell_type": "markdown",
   "id": "eb44517a",
   "metadata": {},
   "source": []
  },
  {
   "cell_type": "markdown",
   "id": "90bdf233",
   "metadata": {},
   "source": []
  },
  {
   "cell_type": "markdown",
   "id": "0202d4ec",
   "metadata": {},
   "source": []
  },
  {
   "cell_type": "markdown",
   "id": "58ac2d06",
   "metadata": {},
   "source": []
  }
 ],
 "metadata": {
  "kernelspec": {
   "display_name": "Python 3 (ipykernel)",
   "language": "python",
   "name": "python3"
  },
  "language_info": {
   "codemirror_mode": {
    "name": "ipython",
    "version": 3
   },
   "file_extension": ".py",
   "mimetype": "text/x-python",
   "name": "python",
   "nbconvert_exporter": "python",
   "pygments_lexer": "ipython3",
   "version": "3.9.13"
  }
 },
 "nbformat": 4,
 "nbformat_minor": 5
}
